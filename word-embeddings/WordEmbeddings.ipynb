{
 "cells": [
  {
   "cell_type": "markdown",
   "metadata": {},
   "source": [
    "Word Embeddings\n",
    "===\n",
    "\n",
    "Using the `gensim` Python package.\n"
   ]
  },
  {
   "cell_type": "code",
   "execution_count": 1,
   "metadata": {},
   "outputs": [],
   "source": [
    "import gensim\n",
    "import logging\n",
    "logging.basicConfig(format='%(asctime)s : %(levelname)s : %(message)s', level=logging.INFO)"
   ]
  },
  {
   "cell_type": "code",
   "execution_count": 21,
   "metadata": {},
   "outputs": [],
   "source": [
    "%matplotlib inline\n",
    "\n",
    "from pathlib import Path\n",
    "import os\n",
    "\n",
    "import pandas as pd\n",
    "import numpy as np\n",
    "\n",
    "from collections import Counter\n",
    "from tqdm import tqdm\n",
    "\n",
    "import matplotlib.pyplot as plt\n",
    "import matplotlib.dates as md\n",
    "import matplotlib\n",
    "import pylab as pl\n",
    "from IPython.core.display import display, HTML"
   ]
  },
  {
   "cell_type": "code",
   "execution_count": 3,
   "metadata": {},
   "outputs": [
    {
     "data": {
      "text/plain": [
       "PosixPath('/home/levon003/repos/nlp-for-hci-workshop')"
      ]
     },
     "execution_count": 3,
     "metadata": {},
     "output_type": "execute_result"
    }
   ],
   "source": [
    "# data is stored relative to the root of the git repository\n",
    "git_root_dir = !git rev-parse --show-toplevel\n",
    "git_root_dir = Path(git_root_dir[0].strip())\n",
    "git_root_dir"
   ]
  },
  {
   "cell_type": "code",
   "execution_count": 4,
   "metadata": {},
   "outputs": [],
   "source": [
    "wikitext_dir = git_root_dir / 'data' / 'wikitext-103'\n",
    "train = wikitext_dir / \"wiki.train.tokens\"\n",
    "valid = wikitext_dir / \"wiki.valid.tokens\"\n",
    "test = wikitext_dir / \"wiki.test.tokens\"\n",
    "assert train.exists() and valid.exists() and test.exists()"
   ]
  },
  {
   "cell_type": "code",
   "execution_count": 5,
   "metadata": {},
   "outputs": [
    {
     "data": {
      "text/plain": [
       "1151408"
      ]
     },
     "execution_count": 5,
     "metadata": {},
     "output_type": "execute_result"
    }
   ],
   "source": [
    "sentences = []\n",
    "with open(train, 'r') as infile:\n",
    "    for line in infile:\n",
    "        tokens = line.strip().split()\n",
    "        if len(tokens) > 2:\n",
    "            sentences.append(tokens)\n",
    "len(sentences)"
   ]
  },
  {
   "cell_type": "code",
   "execution_count": 6,
   "metadata": {},
   "outputs": [
    {
     "data": {
      "text/plain": [
       "['=', 'Valkyria', 'Chronicles', 'III', '=']"
      ]
     },
     "execution_count": 6,
     "metadata": {},
     "output_type": "execute_result"
    }
   ],
   "source": [
    "sentences[0]"
   ]
  },
  {
   "cell_type": "code",
   "execution_count": null,
   "metadata": {
    "scrolled": true
   },
   "outputs": [],
   "source": [
    "model = gensim.models.Word2Vec(sentences, min_count=100, workers=16)"
   ]
  },
  {
   "cell_type": "markdown",
   "metadata": {},
   "source": [
    "Sample output from the above training process:\n",
    "\n",
    "```\n",
    "...\n",
    "2019-03-12 23:57:31,638 : INFO : collected 267717 word types from a corpus of 101405124 raw words and 1151408 sentences\n",
    "2019-03-12 23:57:31,639 : INFO : Loading a fresh vocabulary\n",
    "2019-03-12 23:57:31,767 : INFO : min_count=100 retains 37775 unique words (14% of original 267717, drops 229942)\n",
    "2019-03-12 23:57:31,767 : INFO : min_count=100 leaves 97718769 word corpus (96% of original 101405124, drops 3686355)\n",
    "2019-03-12 23:57:31,848 : INFO : deleting the raw counts dictionary of 267717 items\n",
    "2019-03-12 23:57:31,856 : INFO : sample=0.001 downsamples 34 most-common words\n",
    "2019-03-12 23:57:31,856 : INFO : downsampling leaves estimated 70703379 word corpus (72.4% of prior 97718769)\n",
    "2019-03-12 23:57:31,958 : INFO : estimated required memory for 37775 words and 100 dimensions: 49107500 bytes\n",
    "2019-03-12 23:57:31,958 : INFO : resetting layer weights\n",
    "2019-03-12 23:57:32,215 : INFO : training model with 16 workers on 37775 vocabulary and 100 features, using sg=0 hs=0 sample=0.001 negative=5 window=5\n",
    "...\n",
    "2019-03-13 00:00:41,923 : INFO : training on a 507025620 raw words (353511822 effective words) took 189.7s, 1863460 effective words/s\n",
    "```"
   ]
  },
  {
   "cell_type": "code",
   "execution_count": 9,
   "metadata": {},
   "outputs": [
    {
     "data": {
      "text/plain": [
       "37775"
      ]
     },
     "execution_count": 9,
     "metadata": {},
     "output_type": "execute_result"
    }
   ],
   "source": [
    "len(model.wv.vocab)"
   ]
  },
  {
   "cell_type": "code",
   "execution_count": 26,
   "metadata": {},
   "outputs": [],
   "source": [
    "models_dir = git_root_dir / \"data\" / \"models\"\n",
    "if not models_dir.exists():\n",
    "    os.makedirs(models_dir)\n",
    "model_filepath = (models_dir / \"wikitext.w2v\").as_posix()"
   ]
  },
  {
   "cell_type": "code",
   "execution_count": 27,
   "metadata": {
    "scrolled": true
   },
   "outputs": [
    {
     "name": "stderr",
     "output_type": "stream",
     "text": [
      "2019-03-13 00:09:29,169 : INFO : saving Word2VecKeyedVectors object under /home/levon003/repos/nlp-for-hci-workshop/data/models/wikitext.w2v, separately None\n",
      "2019-03-13 00:09:29,170 : INFO : not storing attribute vectors_norm\n",
      "2019-03-13 00:09:29,337 : INFO : saved /home/levon003/repos/nlp-for-hci-workshop/data/models/wikitext.w2v\n"
     ]
    }
   ],
   "source": [
    "model.wv.save(model_filepath)"
   ]
  },
  {
   "cell_type": "code",
   "execution_count": 32,
   "metadata": {},
   "outputs": [
    {
     "name": "stderr",
     "output_type": "stream",
     "text": [
      "2019-03-13 00:13:05,607 : INFO : loading Word2VecKeyedVectors object from /home/levon003/repos/nlp-for-hci-workshop/data/models/wikitext.w2v\n",
      "2019-03-13 00:13:05,723 : INFO : setting ignored attribute vectors_norm to None\n",
      "2019-03-13 00:13:05,724 : INFO : loaded /home/levon003/repos/nlp-for-hci-workshop/data/models/wikitext.w2v\n"
     ]
    }
   ],
   "source": [
    "# load the saved model\n",
    "wv = gensim.models.KeyedVectors.load(model_filepath)"
   ]
  },
  {
   "cell_type": "code",
   "execution_count": 33,
   "metadata": {},
   "outputs": [
    {
     "data": {
      "text/plain": [
       "100"
      ]
     },
     "execution_count": 33,
     "metadata": {},
     "output_type": "execute_result"
    }
   ],
   "source": [
    "len(wv['the'])"
   ]
  },
  {
   "cell_type": "code",
   "execution_count": 44,
   "metadata": {},
   "outputs": [
    {
     "data": {
      "text/plain": [
       "[('queen', 0.7972210645675659)]"
      ]
     },
     "execution_count": 44,
     "metadata": {},
     "output_type": "execute_result"
    }
   ],
   "source": [
    "wv.most_similar(positive=['woman', 'king'], negative=['man'], topn=1)"
   ]
  },
  {
   "cell_type": "code",
   "execution_count": 35,
   "metadata": {},
   "outputs": [
    {
     "data": {
      "text/plain": [
       "'cereal'"
      ]
     },
     "execution_count": 35,
     "metadata": {},
     "output_type": "execute_result"
    }
   ],
   "source": [
    "group = \"breakfast cereal dinner lunch\".split()\n",
    "wv.doesnt_match(group)"
   ]
  },
  {
   "cell_type": "code",
   "execution_count": 36,
   "metadata": {},
   "outputs": [
    {
     "data": {
      "text/plain": [
       "0.8140723100443483"
      ]
     },
     "execution_count": 36,
     "metadata": {},
     "output_type": "execute_result"
    }
   ],
   "source": [
    "wv.similarity('woman', 'man')"
   ]
  },
  {
   "cell_type": "code",
   "execution_count": 43,
   "metadata": {},
   "outputs": [
    {
     "data": {
      "text/plain": [
       "0.8120143471501855"
      ]
     },
     "execution_count": 43,
     "metadata": {},
     "output_type": "execute_result"
    }
   ],
   "source": [
    "wv.similarity('Kerrigan', 'Raynor')"
   ]
  },
  {
   "cell_type": "code",
   "execution_count": 69,
   "metadata": {},
   "outputs": [
    {
     "data": {
      "text/plain": [
       "[('cash', 0.7672889232635498),\n",
       " ('funds', 0.7473315000534058),\n",
       " ('profits', 0.6970522999763489),\n",
       " ('payments', 0.6843724250793457),\n",
       " ('bribes', 0.680188775062561),\n",
       " ('debt', 0.6790893077850342),\n",
       " ('loans', 0.6788615584373474),\n",
       " ('compensation', 0.6747171878814697),\n",
       " ('fortune', 0.6683861613273621),\n",
       " ('ransom', 0.6646652221679688)]"
      ]
     },
     "execution_count": 69,
     "metadata": {},
     "output_type": "execute_result"
    }
   ],
   "source": [
    "wv.most_similar(positive=['money'], topn=10)"
   ]
  },
  {
   "cell_type": "code",
   "execution_count": 70,
   "metadata": {},
   "outputs": [
    {
     "data": {
      "text/plain": [
       "[('wealth', 0.7376638054847717),\n",
       " ('money', 0.6683861017227173),\n",
       " ('reputation', 0.6277018785476685),\n",
       " ('debt', 0.6262955665588379),\n",
       " ('debts', 0.6246355772018433),\n",
       " ('ambition', 0.618557870388031),\n",
       " ('uncle', 0.6147124171257019),\n",
       " ('grandmother', 0.6039069890975952),\n",
       " ('gifts', 0.6032428741455078),\n",
       " ('retinue', 0.6031603813171387)]"
      ]
     },
     "execution_count": 70,
     "metadata": {},
     "output_type": "execute_result"
    }
   ],
   "source": [
    "wv.most_similar(positive=['fortune'], topn=10)"
   ]
  },
  {
   "cell_type": "code",
   "execution_count": 71,
   "metadata": {},
   "outputs": [
    {
     "data": {
      "text/plain": [
       "[('Postwar', 0.4719221591949463),\n",
       " ('Current', 0.4595763087272644),\n",
       " ('Coaching', 0.447429358959198),\n",
       " ('Wartime', 0.42003268003463745),\n",
       " ('Naming', 0.4007680416107178),\n",
       " ('Pre', 0.3979620337486267),\n",
       " ('Proposed', 0.3917207717895508),\n",
       " ('Preliminary', 0.3714796304702759),\n",
       " ('include', 0.3673864006996155),\n",
       " ('Gunpowder', 0.36704909801483154)]"
      ]
     },
     "execution_count": 71,
     "metadata": {},
     "output_type": "execute_result"
    }
   ],
   "source": [
    "wv.most_similar(positive=['='], topn=10)"
   ]
  },
  {
   "cell_type": "code",
   "execution_count": 72,
   "metadata": {},
   "outputs": [
    {
     "data": {
      "text/plain": [
       "[('na', 0.7089570760726929),\n",
       " ('́', 0.6850618124008179),\n",
       " ('्', 0.6753164529800415),\n",
       " ('ki', 0.6698192954063416),\n",
       " ('das', 0.6543229222297668),\n",
       " ('te', 0.6464616656303406),\n",
       " ('IN', 0.6373640298843384),\n",
       " ('THE', 0.6352424621582031),\n",
       " ('og', 0.6086913347244263),\n",
       " ('・', 0.6061152219772339)]"
      ]
     },
     "execution_count": 72,
     "metadata": {},
     "output_type": "execute_result"
    }
   ],
   "source": [
    "wv.most_similar(positive=['<unk>'], topn=10)"
   ]
  },
  {
   "cell_type": "markdown",
   "metadata": {},
   "source": [
    "## Comparison with other embeddings\n",
    "\n",
    "We compare against pre-trained embeddings designed to show less bias.\n",
    "\n",
    "https://github.com/commonsense/conceptnet-numberbatch"
   ]
  },
  {
   "cell_type": "code",
   "execution_count": 47,
   "metadata": {},
   "outputs": [
    {
     "name": "stdout",
     "output_type": "stream",
     "text": [
      "--2019-03-13 00:24:16--  https://conceptnet.s3.amazonaws.com/downloads/2017/numberbatch/numberbatch-en-17.06.txt.gz\n",
      "Resolving conceptnet.s3.amazonaws.com (conceptnet.s3.amazonaws.com)... 52.216.110.83\n",
      "Connecting to conceptnet.s3.amazonaws.com (conceptnet.s3.amazonaws.com)|52.216.110.83|:443... connected.\n",
      "HTTP request sent, awaiting response... 200 OK\n",
      "Length: 269500348 (257M) [text/plain]\n",
      "Saving to: ‘/home/levon003/repos/nlp-for-hci-workshop/data/models/numberbatch.txt.gz’\n",
      "\n",
      "/home/levon003/repo 100%[===================>] 257.01M  49.1MB/s    in 5.5s    \n",
      "\n",
      "2019-03-13 00:24:22 (47.0 MB/s) - ‘/home/levon003/repos/nlp-for-hci-workshop/data/models/numberbatch.txt.gz’ saved [269500348/269500348]\n",
      "\n"
     ]
    }
   ],
   "source": [
    "# Download the latest version of the Numberbatch embeddings; copied from the repository linked above\n",
    "!wget https://conceptnet.s3.amazonaws.com/downloads/2017/numberbatch/numberbatch-en-17.06.txt.gz -O {models_dir}/numberbatch.txt.gz"
   ]
  },
  {
   "cell_type": "code",
   "execution_count": 50,
   "metadata": {},
   "outputs": [],
   "source": [
    "!gunzip {models_dir}/numberbatch.txt.gz"
   ]
  },
  {
   "cell_type": "code",
   "execution_count": 51,
   "metadata": {},
   "outputs": [
    {
     "name": "stderr",
     "output_type": "stream",
     "text": [
      "2019-03-13 00:27:17,285 : INFO : loading projection weights from /home/levon003/repos/nlp-for-hci-workshop/data/models/numberbatch.txt\n",
      "2019-03-13 00:28:26,362 : INFO : loaded (417194, 300) matrix from /home/levon003/repos/nlp-for-hci-workshop/data/models/numberbatch.txt\n"
     ]
    }
   ],
   "source": [
    "cnnb_wv = gensim.models.KeyedVectors.load_word2vec_format((models_dir / \"numberbatch.txt\").as_posix())"
   ]
  },
  {
   "cell_type": "code",
   "execution_count": 53,
   "metadata": {},
   "outputs": [
    {
     "data": {
      "text/plain": [
       "[('male_monarch', 0.7743297815322876),\n",
       " ('king_of_france', 0.7732952833175659),\n",
       " ('king_of_germans', 0.7699317932128906),\n",
       " ('riley_b_king', 0.7568389177322388),\n",
       " ('king_of_england', 0.7519593238830566)]"
      ]
     },
     "execution_count": 53,
     "metadata": {},
     "output_type": "execute_result"
    }
   ],
   "source": [
    "cnnb_wv.most_similar(positive=['woman', 'king'], negative=['man'], topn=5)"
   ]
  },
  {
   "cell_type": "code",
   "execution_count": 57,
   "metadata": {},
   "outputs": [
    {
     "data": {
      "text/plain": [
       "(-0.17533369082138786, 0.10115992027055618)"
      ]
     },
     "execution_count": 57,
     "metadata": {},
     "output_type": "execute_result"
    }
   ],
   "source": [
    "wv.similarity('John', 'violent'), wv.similarity('Jamal', 'violent')"
   ]
  },
  {
   "cell_type": "code",
   "execution_count": 59,
   "metadata": {},
   "outputs": [
    {
     "data": {
      "text/plain": [
       "(0.3419413144837632, 0.21904274868122742)"
      ]
     },
     "execution_count": 59,
     "metadata": {},
     "output_type": "execute_result"
    }
   ],
   "source": [
    "wv.similarity('man', 'leader'), wv.similarity('woman', 'leader')"
   ]
  },
  {
   "cell_type": "code",
   "execution_count": 62,
   "metadata": {},
   "outputs": [
    {
     "data": {
      "text/plain": [
       "(0.03260216997446677, 0.0031282791130675877)"
      ]
     },
     "execution_count": 62,
     "metadata": {},
     "output_type": "execute_result"
    }
   ],
   "source": [
    "cnnb_wv.similarity('john', 'violent'), cnnb_wv.similarity('jamal', 'violent')"
   ]
  },
  {
   "cell_type": "code",
   "execution_count": 63,
   "metadata": {},
   "outputs": [
    {
     "data": {
      "text/plain": [
       "(0.14042042962506568, 0.12014459835681429)"
      ]
     },
     "execution_count": 63,
     "metadata": {},
     "output_type": "execute_result"
    }
   ],
   "source": [
    "cnnb_wv.similarity('man', 'leader'), cnnb_wv.similarity('woman', 'leader')"
   ]
  },
  {
   "cell_type": "code",
   "execution_count": null,
   "metadata": {},
   "outputs": [],
   "source": []
  }
 ],
 "metadata": {
  "kernelspec": {
   "display_name": "Python 3",
   "language": "python",
   "name": "python3"
  },
  "language_info": {
   "codemirror_mode": {
    "name": "ipython",
    "version": 3
   },
   "file_extension": ".py",
   "mimetype": "text/x-python",
   "name": "python",
   "nbconvert_exporter": "python",
   "pygments_lexer": "ipython3",
   "version": "3.6.8"
  }
 },
 "nbformat": 4,
 "nbformat_minor": 2
}

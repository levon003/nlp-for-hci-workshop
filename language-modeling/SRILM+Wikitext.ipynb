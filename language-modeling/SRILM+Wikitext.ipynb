{
 "cells": [
  {
   "cell_type": "markdown",
   "metadata": {},
   "source": [
    "SRILM and Wikitext-103 Exploration\n",
    "===\n",
    "\n",
    "SRILM is a languauge modeling toolkit that can be downloaded by researchers here: http://www.speech.sri.com/projects/srilm/download.html\n",
    "\n",
    "Wikitext-103: https://blog.einstein.ai/the-wikitext-long-term-dependency-language-modeling-dataset/"
   ]
  },
  {
   "cell_type": "code",
   "execution_count": 12,
   "metadata": {},
   "outputs": [],
   "source": [
    "%matplotlib inline\n",
    "\n",
    "from pathlib import Path\n",
    "\n",
    "import pandas as pd\n",
    "import numpy as np\n",
    "\n",
    "from collections import Counter\n",
    "from tqdm import tqdm\n",
    "\n",
    "import matplotlib.pyplot as plt\n",
    "import matplotlib.dates as md\n",
    "import matplotlib\n",
    "import pylab as pl\n",
    "from IPython.core.display import display, HTML"
   ]
  },
  {
   "cell_type": "markdown",
   "metadata": {},
   "source": [
    "SRILM has [documentation](http://www.speech.sri.com/projects/srilm/manpages/ngram-count.1.html) that explains the calls to `ngram-count` in this notebook."
   ]
  },
  {
   "cell_type": "code",
   "execution_count": 58,
   "metadata": {},
   "outputs": [],
   "source": [
    "# to use the srilm binary, you'll have to update this path with your own installation of SRILM\n",
    "srilm_bin = \"/home/levon003/bin/srilm/bin/i686-m64\"\n",
    "srilm = srilm_bin + \"/ngram-count\"\n",
    "ngram = srilm_bin + \"/ngram\""
   ]
  },
  {
   "cell_type": "code",
   "execution_count": 5,
   "metadata": {},
   "outputs": [
    {
     "data": {
      "text/plain": [
       "PosixPath('/home/levon003/repos/nlp-for-hci-workshop')"
      ]
     },
     "execution_count": 5,
     "metadata": {},
     "output_type": "execute_result"
    }
   ],
   "source": [
    "# data is stored relative to the root of the git repository\n",
    "git_root_dir = !git rev-parse --show-toplevel\n",
    "git_root_dir = Path(git_root_dir[0].strip())\n",
    "git_root_dir"
   ]
  },
  {
   "cell_type": "code",
   "execution_count": 6,
   "metadata": {},
   "outputs": [],
   "source": [
    "wikitext_dir = git_root_dir / 'data' / 'wikitext-103'\n",
    "train = wikitext_dir / \"wiki.train.tokens\"\n",
    "valid = wikitext_dir / \"wiki.valid.tokens\"\n",
    "test = wikitext_dir / \"wiki.test.tokens\"\n",
    "assert train.exists() and valid.exists() and test.exists()"
   ]
  },
  {
   "cell_type": "code",
   "execution_count": 61,
   "metadata": {},
   "outputs": [
    {
     "name": "stdout",
     "output_type": "stream",
     "text": [
      "  1809468 total\r\n",
      "  1801350 /home/levon003/repos/nlp-for-hci-workshop/data/wikitext-103/wiki.train.tokens\r\n",
      "     4358 /home/levon003/repos/nlp-for-hci-workshop/data/wikitext-103/wiki.test.tokens\r\n",
      "     3760 /home/levon003/repos/nlp-for-hci-workshop/data/wikitext-103/wiki.valid.tokens\r\n"
     ]
    }
   ],
   "source": [
    "!wc -l {wikitext_dir}/*.tokens | sort -nr"
   ]
  },
  {
   "cell_type": "code",
   "execution_count": 7,
   "metadata": {
    "scrolled": false
   },
   "outputs": [
    {
     "name": "stdout",
     "output_type": "stream",
     "text": [
      " \r\n",
      " = Valkyria Chronicles III = \r\n",
      " \r\n",
      " Senjō no Valkyria 3 : <unk> Chronicles ( Japanese : 戦場のヴァルキュリア3 , lit . Valkyria of the Battlefield 3 ) , commonly referred to as Valkyria Chronicles III outside Japan , is a tactical role @-@ playing video game developed by Sega and Media.Vision for the PlayStation Portable . Released in January 2011 in Japan , it is the third game in the Valkyria series . Employing the same fusion of tactical and real @-@ time gameplay as its predecessors , the story runs parallel to the first game and follows the \" Nameless \" , a penal military unit serving the nation of Gallia during the Second Europan War who perform secret black operations and are pitted against the Imperial unit \" <unk> Raven \" . \r\n",
      " The game began development in 2010 , carrying over a large portion of the work done on Valkyria Chronicles II . While it retained the standard features of the series , it also underwent multiple adjustments , such as making the game more forgiving for series newcomers . Character designer <unk> Honjou and composer Hitoshi Sakimoto both returned from previous entries , along with Valkyria Chronicles II director Takeshi Ozawa . A large team of writers handled the script . The game 's opening theme was sung by May 'n . \r\n",
      " It met with positive sales in Japan , and was praised by both Japanese and western critics . After release , it received downloadable content , along with an expanded edition in November of that year . It was also adapted into manga and an original video animation series . Due to low sales of Valkyria Chronicles II , Valkyria Chronicles III was not localized , but a fan translation compatible with the game 's expanded edition was released in 2014 . Media.Vision would return to the franchise with the development of Valkyria : Azure Revolution for the PlayStation 4 . \r\n",
      " \r\n",
      " = = Gameplay = = \r\n",
      " \r\n",
      " As with previous <unk> Chronicles games , Valkyria Chronicles III is a tactical role @-@ playing game where players take control of a military unit and take part in missions against enemy forces . Stories are told through comic book @-@ like panels with animated character portraits , with characters speaking partially through voiced speech bubbles and partially through unvoiced text . The player progresses through a series of linear missions , gradually unlocked as maps that can be freely scanned through and replayed as they are unlocked . The route to each story location on the map varies depending on an individual player 's approach : when one option is selected , the other is sealed off to the player . Outside missions , the player characters rest in a camp , where units can be customized and character growth occurs . Alongside the main story missions are character @-@ specific sub missions relating to different squad members . After the game 's completion , additional episodes are unlocked , some of them having a higher difficulty than those found in the rest of the game . There are also love simulation elements related to the game 's two main heroines , although they take a very minor role . \r\n"
     ]
    }
   ],
   "source": [
    "# Each wikitext-103 file contains tokens separated by whitespace\n",
    "!head -n 10 {train}"
   ]
  },
  {
   "cell_type": "markdown",
   "metadata": {},
   "source": [
    "## Counting tokens"
   ]
  },
  {
   "cell_type": "code",
   "execution_count": 15,
   "metadata": {},
   "outputs": [],
   "source": [
    "!{srilm} -text {train} -write train.n1.count -sort -order 1"
   ]
  },
  {
   "cell_type": "code",
   "execution_count": 18,
   "metadata": {},
   "outputs": [],
   "source": [
    "!awk '{print $NF\" \" $0 }' train.n1.count | sort -nr -k1 > train.n1.count.sorted"
   ]
  },
  {
   "cell_type": "code",
   "execution_count": 8,
   "metadata": {},
   "outputs": [
    {
     "name": "stdout",
     "output_type": "stream",
     "text": [
      "5584823 the\t5584823\r\n",
      "4971506 ,\t4971506\r\n",
      "3624899 .\t3624899\r\n",
      "2737620 of\t2737620\r\n",
      "2499539 and\t2499539\r\n",
      "1979164 to\t1979164\r\n",
      "1894558 in\t1894558\r\n",
      "1677048 a\t1677048\r\n",
      "1466599 =\t1466599\r\n",
      "1338685 \"\t1338685\r\n",
      "1165029 <s>\t1165029\r\n",
      "1165029 </s>\t1165029\r\n",
      "1075325 was\t1075325\r\n",
      "881576 @-@\t881576\r\n",
      "853819 The\t853819\r\n",
      "728291 's\t728291\r\n",
      "688528 on\t688528\r\n",
      "679711 that\t679711\r\n",
      "675287 for\t675287\r\n",
      "675032 as\t675032\r\n"
     ]
    }
   ],
   "source": [
    "!head -n 20 train.n1.count.sorted"
   ]
  },
  {
   "cell_type": "code",
   "execution_count": 9,
   "metadata": {},
   "outputs": [
    {
     "name": "stdout",
     "output_type": "stream",
     "text": [
      "267736 train.n1.count.sorted\r\n"
     ]
    }
   ],
   "source": [
    "# number of words in the vocab!\n",
    "!wc -l train.n1.count.sorted"
   ]
  },
  {
   "cell_type": "code",
   "execution_count": 10,
   "metadata": {},
   "outputs": [
    {
     "data": {
      "text/plain": [
       "(5584823,\n",
       " 2737620,\n",
       " 2499539,\n",
       " 1979164,\n",
       " 1894558,\n",
       " 1677048,\n",
       " 1075325,\n",
       " 853819,\n",
       " 688528,\n",
       " 679711)"
      ]
     },
     "execution_count": 10,
     "metadata": {},
     "output_type": "execute_result"
    }
   ],
   "source": [
    "with open(\"train.n1.count.sorted\") as infile:\n",
    "    lines = [(int(line.split()[0]), line.split()[1]) for line in infile.readlines()]\n",
    "    trimmed_lines = [(count, word) for count, word in lines if word.isalpha()]\n",
    "    counts, words = zip(*trimmed_lines)\n",
    "assert len(counts) == len(words)\n",
    "counts[:10]"
   ]
  },
  {
   "cell_type": "code",
   "execution_count": 23,
   "metadata": {},
   "outputs": [
    {
     "name": "stdout",
     "output_type": "stream",
     "text": [
      "255356 tokens with exclusively alpha characters.\n",
      "Top 20 tokens and their counts:\n",
      "(Total percentage of text using only tokens at least this common)\n",
      "===========================\n",
      "the       5584823  ( 6.83%)\n",
      "of        2737620  (10.18%)\n",
      "and       2499539  (13.23%)\n",
      "to        1979164  (15.66%)\n",
      "in        1894558  (17.97%)\n",
      "a         1677048  (20.02%)\n",
      "was       1075325  (21.34%)\n",
      "The        853819  (22.38%)\n",
      "on         688528  (23.22%)\n",
      "that       679711  (24.06%)\n",
      "for        675287  (24.88%)\n",
      "as         675032  (25.71%)\n",
      "with       632025  (26.48%)\n",
      "by         600898  (27.21%)\n",
      "is         512782  (27.84%)\n",
      "his        436363  (28.38%)\n",
      "from       431900  (28.90%)\n",
      "at         417082  (29.41%)\n",
      "were       354550  (29.85%)\n",
      "it         326416  (30.25%)\n"
     ]
    }
   ],
   "source": [
    "print(f\"{len(counts)} tokens with exclusively alpha characters.\")\n",
    "print(\"Top 20 tokens and their counts:\")\n",
    "print(\"(Total percentage of text using only tokens at least this common)\")\n",
    "print(\"=\"*27)\n",
    "total_count = np.sum(counts)\n",
    "for i in range(20):\n",
    "    cumulative_percentage_of_counts = np.sum(counts[:i+1]) / total_count * 100\n",
    "    print(f\"{words[i]:6} {counts[i]:>10}  ({cumulative_percentage_of_counts:5.2f}%)\")"
   ]
  },
  {
   "cell_type": "code",
   "execution_count": 15,
   "metadata": {},
   "outputs": [
    {
     "name": "stdout",
     "output_type": "stream",
     "text": [
      "'his' (0.53%, 436363) is 2.5x times more common than 'her'/'hers' (0.22%, 177068). 🤔\n"
     ]
    }
   ],
   "source": [
    "# by the way, speaking of \"his\"...\n",
    "his_count = np.sum(counts[words.index(\"his\")])\n",
    "her_count = np.sum(counts[words.index(\"her\")]) + np.sum(counts[words.index(\"hers\")])\n",
    "his_pct = his_count / total_count * 100\n",
    "her_pct = her_count / total_count * 100\n",
    "print(f\"'his' ({his_pct:.2f}%, {his_count}) is {his_pct / her_pct:.1f}x times more common than 'her'/'hers' ({her_pct:.2f}%, {her_count}). 🤔\")"
   ]
  },
  {
   "cell_type": "code",
   "execution_count": 16,
   "metadata": {},
   "outputs": [],
   "source": [
    "# prepare for plotting\n",
    "\n",
    "SMALL_SIZE = 10\n",
    "MEDIUM_SIZE = 14\n",
    "BIGGER_SIZE = 18\n",
    "\n",
    "plt.rc('font', size=SMALL_SIZE)          # controls default text sizes\n",
    "plt.rc('axes', titlesize=BIGGER_SIZE)     # fontsize of the axes title\n",
    "plt.rc('axes', labelsize=MEDIUM_SIZE)    # fontsize of the x and y labels\n",
    "plt.rc('xtick', labelsize=SMALL_SIZE)    # fontsize of the tick labels\n",
    "plt.rc('ytick', labelsize=SMALL_SIZE)    # fontsize of the tick labels\n",
    "plt.rc('legend', fontsize=SMALL_SIZE)    # legend fontsize\n",
    "plt.rc('figure', titlesize=BIGGER_SIZE)  # fontsize of the figure title\n",
    "\n",
    "plot_width = 12\n",
    "plot_height = 8"
   ]
  },
  {
   "cell_type": "code",
   "execution_count": 22,
   "metadata": {},
   "outputs": [
    {
     "data": {
      "image/png": "[encoded data removed]",
      "text/plain": [
       "<Figure size 864x576 with 1 Axes>"
      ]
     },
     "metadata": {
      "needs_background": "light"
     },
     "output_type": "display_data"
    }
   ],
   "source": [
    "fig, ax = plt.subplots(1, 1, figsize=(plot_width,plot_height))\n",
    "\n",
    "# plot word rank vs word count\n",
    "ax.loglog(range(1, len(counts)+1), counts)\n",
    "\n",
    "# plot the the top 5 words specifically\n",
    "ax.plot(range(1,6), counts[:5], 'ko')\n",
    "for i in range(0, 5):\n",
    "    ax.text(i+1, counts[i], \"  \" + words[i])\n",
    "    \n",
    "# print evenly-spaced sample words from the distribution\n",
    "for rank in np.geomspace(6, len(counts), endpoint=False, num=25):\n",
    "    i = int(rank)\n",
    "    ax.text(i+1, counts[i], \"  \" + words[i])\n",
    "\n",
    "# compute and plot the counts if the true distribution was Zipfian\n",
    "largest = counts[0]\n",
    "true_zipf = [(1, largest)]\n",
    "for i in np.geomspace(1, len(counts), endpoint=True, num=25):\n",
    "    rank = int(i) + 1\n",
    "    true_zipf.append((rank, largest * 1/rank))\n",
    "xs, ys = zip(*true_zipf)\n",
    "ax.plot(xs, ys, color='gray', linestyle='-', alpha=0.5)\n",
    "    \n",
    "# label axes and add 30000 line as sample vocab size\n",
    "plt.axvline(30000, color='black', linestyle='--', alpha=0.1)\n",
    "pct_of_total_words = np.sum(counts[:30001]) / total_count * 100\n",
    "plt.text(30000 * 1.1, plt.ylim()[1] * 0.4, f\"|V|=30000\\n{pct_of_total_words:.2f}% of text\", alpha=0.7)\n",
    "plt.xlabel(\"Frequency rank of token\")\n",
    "plt.ylabel(\"Absolute frequency of token\")\n",
    "plt.title(f\"Zipf plot for {len(words)} all-alpha tokens in Wikitext-103\")\n",
    "plt.show()"
   ]
  },
  {
   "cell_type": "code",
   "execution_count": 24,
   "metadata": {},
   "outputs": [
    {
     "data": {
      "image/png": "[encoded data removed]",
      "text/plain": [
       "<Figure size 864x576 with 1 Axes>"
      ]
     },
     "metadata": {
      "needs_background": "light"
     },
     "output_type": "display_data"
    }
   ],
   "source": [
    "fig, ax = plt.subplots(1, 1, figsize=(plot_width,plot_height))\n",
    "least_common_words = [count for count in counts if count < 15]\n",
    "bin_counts, _, _ = ax.hist(least_common_words, log=True, bins=range(2, 16), align='left')\n",
    "\n",
    "# plot the cumulative percentage of unique words with this number or fewer occurrences\n",
    "cumulative_total = 0\n",
    "for i, bin_count in enumerate(bin_counts[1:]):\n",
    "    cumulative_total += bin_count\n",
    "    pct = cumulative_total / len(words)\n",
    "    ax.text((i + 3) * 1.01 - 0.5, bin_count * 1.02, f\"{pct*100:.1f}%\")\n",
    "\n",
    "from matplotlib.ticker import ScalarFormatter\n",
    "ax.yaxis.set_major_formatter(ScalarFormatter())\n",
    "ax.yaxis.set_minor_formatter(ScalarFormatter())\n",
    "plt.xticks(range(2,15))\n",
    "plt.xlabel(\"Absolute frequency of token\")\n",
    "plt.ylabel(\"Number of unique tokens\")\n",
    "plt.title(f\"Histogram of the least common all-alpha tokens in Wikitext-103\")\n",
    "plt.show()"
   ]
  },
  {
   "cell_type": "markdown",
   "metadata": {},
   "source": [
    "### $n$-grams\n",
    "\n",
    "Moving beyond individual unigram tokens."
   ]
  },
  {
   "cell_type": "code",
   "execution_count": 213,
   "metadata": {},
   "outputs": [],
   "source": [
    "# compute wikitext counts for bigrams and trigrams\n",
    "!{srilm} -text {train} -write train.n2.count -sort -order 2\n",
    "!awk '{print $NF\" \" $0 }' train.n2.count | sort -nr -k1 > train.n2.count.sorted\n",
    "!{srilm} -text {train} -write train.n3.count -sort -order 3\n",
    "!awk '{print $NF\" \" $0 }' train.n3.count | sort -nr -k1 > train.n3.count.sorted"
   ]
  },
  {
   "cell_type": "code",
   "execution_count": 25,
   "metadata": {},
   "outputs": [
    {
     "name": "stdout",
     "output_type": "stream",
     "text": [
      "  63554045 total\r\n",
      "  51977781 train.n3.count.sorted\r\n",
      "  11308528 train.n2.count.sorted\r\n",
      "    267736 train.n1.count.sorted\r\n"
     ]
    }
   ],
   "source": [
    "# each counts file contains all lower-order n-grams as well\n",
    "!wc -l *.count.sorted | sort -nr"
   ]
  },
  {
   "cell_type": "code",
   "execution_count": 54,
   "metadata": {},
   "outputs": [
    {
     "name": "stdout",
     "output_type": "stream",
     "text": [
      "12991 list\t12991\r\n",
      "9248 cm\t9248\r\n",
      "4501 the field\t4501\r\n",
      "3329 what he\t3329\r\n",
      "2728 victories\t2728\r\n",
      "2114 be made\t2114\r\n",
      "2057 house .\t2057\r\n",
      "1867 take place\t1867\r\n",
      "1664 , creating\t1664\r\n",
      "1664 a 5\t1664\r\n",
      "1626 retail\t1626\r\n",
      "1413 aftermath of\t1413\r\n",
      "1292 in 1980\t1292\r\n",
      "1202 white ,\t1202\r\n",
      "1132 will have\t1132\r\n",
      "1091 gather\t1091\r\n",
      "1049 20 .\t1049\r\n",
      "885 to publish\t885\r\n",
      "867 claim to\t867\r\n",
      "849 and told\t849\r\n"
     ]
    }
   ],
   "source": [
    "# we grab 20 random lines from the top 20000 lines in the bigram counts file\n",
    "!head -n 20000 train.n2.count.sorted | shuf -n 20 | sort -nr"
   ]
  },
  {
   "cell_type": "code",
   "execution_count": 26,
   "metadata": {},
   "outputs": [],
   "source": [
    "with open(\"train.n2.count.sorted\") as infile:\n",
    "    lines = [(int(line.split()[0]), line.split()[1:-1]) for line in infile.readlines()]"
   ]
  },
  {
   "cell_type": "code",
   "execution_count": 33,
   "metadata": {},
   "outputs": [
    {
     "data": {
      "text/plain": [
       "11040792"
      ]
     },
     "execution_count": 33,
     "metadata": {},
     "output_type": "execute_result"
    }
   ],
   "source": [
    "bigram_counts, bigram_words = [], []\n",
    "for count, words in lines:\n",
    "    if len(words) == 1:\n",
    "        continue  # skip unigram counts\n",
    "    bigram_counts.append(count)\n",
    "    bigram_words.append(\" \".join(words))\n",
    "len(bigram_counts)"
   ]
  },
  {
   "cell_type": "code",
   "execution_count": 38,
   "metadata": {},
   "outputs": [
    {
     "data": {
      "text/plain": [
       "(102590700, '125.46% of total unigram occurrences')"
      ]
     },
     "execution_count": 38,
     "metadata": {},
     "output_type": "execute_result"
    }
   ],
   "source": [
    "total_bigram_counts = np.sum(bigram_counts)\n",
    "total_bigram_counts, f\"{total_bigram_counts / total_count * 100:.2f}% of total unigram occurrences\""
   ]
  },
  {
   "cell_type": "code",
   "execution_count": 43,
   "metadata": {},
   "outputs": [
    {
     "name": "stdout",
     "output_type": "stream",
     "text": [
      "=                     854175\n",
      "</s>                  305503\n",
      "History                 6415\n",
      "Early                   5873\n",
      "Background              5818\n",
      "Reception               5387\n",
      "The                     3715\n",
      "Production              3641\n",
      "Plot                    3599\n",
      "Critical                2840\n",
      "Release                 2720\n",
      "<unk>                   2482\n",
      "Music                   2374\n",
      "Development             2160\n",
      "Legacy                  2094\n",
      "Other                   1980\n",
      "Track                   1822\n",
      "Aftermath               1813\n",
      "Description             1749\n",
      "Personal                1708\n",
      "Charts                  1668\n"
     ]
    }
   ],
   "source": [
    "# Words that most frequently follow a header or subsection header\n",
    "words_printed = 0\n",
    "for i in range(len(bigram_counts)):\n",
    "    if words_printed > 20:\n",
    "        break\n",
    "    words = bigram_words[i]\n",
    "    if words.startswith(\"= \"):\n",
    "        print(f\"{words[2:]:20} {bigram_counts[i]:7}\")\n",
    "        words_printed += 1"
   ]
  },
  {
   "cell_type": "code",
   "execution_count": 46,
   "metadata": {},
   "outputs": [
    {
     "name": "stdout",
     "output_type": "stream",
     "text": [
      "=                     305497\n",
      "The                   160302\n",
      "In                     78200\n",
      "On                     24380\n",
      "\"                      23790\n",
      "A                      15990\n",
      "After                  15071\n",
      "As                     10647\n",
      "During                  9431\n",
      "At                      8907\n",
      "<unk>                   7755\n",
      "When                    6080\n",
      "By                      6026\n",
      "Although                5478\n",
      "Following               5244\n",
      "There                   5014\n",
      "While                   4945\n",
      "According               4423\n",
      "With                    3989\n",
      "For                     3979\n",
      "It                      3856\n"
     ]
    }
   ],
   "source": [
    "# Words that most frequently start a paragraph\n",
    "words_printed = 0\n",
    "for i in range(len(bigram_counts)):\n",
    "    if words_printed > 20:\n",
    "        break\n",
    "    words = bigram_words[i]\n",
    "    if words.startswith(\"<s> \"):\n",
    "        print(f\"{words[4:]:20} {bigram_counts[i]:7}\")\n",
    "        words_printed += 1"
   ]
  },
  {
   "cell_type": "markdown",
   "metadata": {},
   "source": [
    "## Language Modeling"
   ]
  },
  {
   "cell_type": "code",
   "execution_count": 89,
   "metadata": {},
   "outputs": [
    {
     "name": "stdout",
     "output_type": "stream",
     "text": [
      "20582151 train.lm\r\n"
     ]
    }
   ],
   "source": [
    "!{srilm} -text {train} -order 3 -addsmooth 1 -lm train.lm &> /dev/null\n",
    "!wc -l train.lm"
   ]
  },
  {
   "cell_type": "code",
   "execution_count": 90,
   "metadata": {},
   "outputs": [
    {
     "name": "stdout",
     "output_type": "stream",
     "text": [
      "\r\n",
      "\\data\\\r\n",
      "ngram 1=267735\r\n",
      "ngram 2=10971579\r\n",
      "ngram 3=9342824\r\n",
      "\r\n",
      "\\1-grams:\r\n",
      "-3.411519\t!\t-0.6342278\r\n",
      "-2.237392\t\"\t-0.1060671\r\n",
      "-4.124262\t#\t-0.6762458\r\n",
      "-3.881232\t$\t-0.9501724\r\n",
      "-4.427027\t%\t-0.532291\r\n",
      "-3.388234\t&\t-0.1964037\r\n",
      "-2.760494\t'\t-0.2205092\r\n",
      "-6.609695\t'A\t-0.2153656\r\n",
      "-6.551673\t'Abbadie\t-0.1433707\r\n",
      "-6.551673\t'Abbetot\t-0.1456759\r\n",
      "-6.551673\t'Abetot\t-0.1251051\r\n",
      "-6.551673\t'Abitot\t-0.1301055\r\n",
      "-6.551673\t'Abitots\t-0.1414997\r\n"
     ]
    }
   ],
   "source": [
    "!head -n 20 train.lm"
   ]
  },
  {
   "cell_type": "code",
   "execution_count": 101,
   "metadata": {},
   "outputs": [
    {
     "name": "stdout",
     "output_type": "stream",
     "text": [
      "-2.56756\tthe\t-0.264325\n",
      "grep: write error: Broken pipe\n",
      "-4.959892\tKerrigan\t-0.33821\n",
      "grep: write error: Broken pipe\n",
      "-0.7623988\tNew York City\n"
     ]
    }
   ],
   "source": [
    "!grep -P \"\\tthe\" train.lm | head -n 1\n",
    "!grep -P \"\\tKerrigan\" train.lm | head -n 1\n",
    "!grep -P \"\\tNew York City\" train.lm | head -n 1"
   ]
  },
  {
   "cell_type": "code",
   "execution_count": 94,
   "metadata": {},
   "outputs": [
    {
     "data": {
      "text/plain": [
       "0.002706699233770596"
      ]
     },
     "execution_count": 94,
     "metadata": {},
     "output_type": "execute_result"
    }
   ],
   "source": [
    "# occurrence of 'the' = 0.27%\n",
    "10 ** -2.56756"
   ]
  },
  {
   "cell_type": "code",
   "execution_count": 98,
   "metadata": {},
   "outputs": [
    {
     "data": {
      "text/plain": [
       "1.096750901359553e-05"
      ]
     },
     "execution_count": 98,
     "metadata": {},
     "output_type": "execute_result"
    }
   ],
   "source": [
    "# occurrence of 'Kerrigan'\n",
    "10 ** -4.959892"
   ]
  },
  {
   "cell_type": "code",
   "execution_count": 102,
   "metadata": {},
   "outputs": [
    {
     "data": {
      "text/plain": [
       "0.1728228648215396"
      ]
     },
     "execution_count": 102,
     "metadata": {},
     "output_type": "execute_result"
    }
   ],
   "source": [
    "# What % of the time does \"City\" follow \"New\" + \"York\"?\n",
    "10 ** -0.7623988"
   ]
  },
  {
   "cell_type": "code",
   "execution_count": 99,
   "metadata": {},
   "outputs": [
    {
     "name": "stdout",
     "output_type": "stream",
     "text": [
      "file /home/levon003/repos/nlp-for-hci-workshop/data/wikitext-103/wiki.valid.tokens: 2461 sentences, 213886 words, 1657 OOVs\r\n",
      "0 zeroprobs, logprob= -474960.2 ppl= 163.0448 ppl1= 172.966\r\n"
     ]
    }
   ],
   "source": [
    "!{ngram} -lm train.lm -ppl {valid}"
   ]
  },
  {
   "cell_type": "code",
   "execution_count": 100,
   "metadata": {
    "scrolled": false
   },
   "outputs": [
    {
     "name": "stdout",
     "output_type": "stream",
     "text": [
      "reading 267735 1-grams\n",
      "reading 10971579 2-grams\n",
      "reading 9342824 3-grams\n",
      "= Homarus gammarus =\n",
      "\tp( = | <s> ) \t= [2gram] 0.2639786 [ -0.5784313 ]\n",
      "\tp( Homarus | = ...) \t= [1gram] 2.454183e-08 [ -7.610093 ]\n",
      "\tp( gammarus | Homarus ...) \t= [2gram] 0.1036962 [ -0.9842371 ]\n",
      "\tp( = | gammarus ...) \t= [1gram] 0.002002014 [ -2.698533 ]\n",
      "\tp( </s> | = ...) \t= [2gram] 0.1861666 [ -0.7300982 ]\n",
      "1 sentences, 4 words, 0 OOVs\n",
      "0 zeroprobs, logprob= -12.60139 ppl= 331.3435 ppl1= 1413.67\n",
      "\n",
      "Homarus gammarus , known as the European lobster or common lobster , is a species of clawed lobster from the eastern Atlantic Ocean , Mediterranean Sea and parts of the Black Sea . It is closely related to the American lobster , H. americanus . It may grow to a length of 60 cm ( 24 in ) and a mass of 6 kilograms ( 13 lb ) , and bears a conspicuous pair of claws . In life , the lobsters are blue , only becoming \" lobster red \" on cooking . Mating occurs in the summer , producing eggs which are carried by the females for up to a year before hatching into planktonic larvae . Homarus gammarus is a highly esteemed food , and is widely caught using lobster pots , mostly around the British Isles .\n",
      "\tp( Homarus | <s> ) \t= [1gram] 6.930796e-08 [ -7.159217 ]\n",
      "\tp( gammarus | Homarus ...) \t= [2gram] 0.1036962 [ -0.9842371 ]\n",
      "\tp( , | gammarus ...) \t= [1gram] 0.01027796 [ -1.988093 ]\n",
      "\tp( known | , ...) \t= [2gram] 0.0012317 [ -2.909495 ]\n",
      "\tp( as | known ...) \t= [3gram] 0.7175669 [ -0.1441376 ]\n",
      "\tp( the | as ...) \t= [3gram] 0.4050645 [ -0.3924758 ]\n",
      "\tp( European | the ...) \t= [3gram] 0.0006395273 [ -3.194141 ]\n",
      "\tp( lobster | European ...) \t= [2gram] 4.156243e-05 [ -4.381299 ]\n",
      "\tp( or | lobster ...) \t= [2gram] 0.001997151 [ -2.699589 ]\n",
      "\tp( common | or ...) \t= [2gram] 0.0003390533 [ -3.469732 ]\n",
      "\tp( lobster | common ...) \t= [2gram] 4.119752e-05 [ -4.385129 ]\n",
      "\tp( , | lobster ...) \t= [2gram] 0.07969279 [ -1.098581 ]\n",
      "\tp( is | , ...) \t= [2gram] 0.003868597 [ -2.412446 ]\n",
      "\tp( a | is ...) \t= [3gram] 0.1858378 [ -0.730866 ]\n",
      "\tp( species | a ...) \t= [3gram] 0.007543295 [ -2.122439 ]\n",
      "\tp( of | species ...) \t= [3gram] 0.6212567 [ -0.2067289 ]\n",
      "\tp( clawed | of ...) \t= [1gram] 6.549273e-07 [ -6.183807 ]\n",
      "\tp( lobster | clawed ...) \t= [1gram] 3.749054e-06 [ -5.426078 ]\n",
      "\tp( from | lobster ...) \t= [2gram] 0.001997151 [ -2.699589 ]\n",
      "\tp( the | from ...) \t= [2gram] 0.07611882 [ -1.118508 ]\n",
      "\tp( eastern | the ...) \t= [3gram] 0.001180204 [ -2.928043 ]\n",
      "\tp( Atlantic | eastern ...) \t= [3gram] 0.01779746 [ -1.749642 ]\n",
      "\tp( Ocean | Atlantic ...) \t= [3gram] 0.3835639 [ -0.4161623 ]\n",
      "\tp( , | Ocean ...) \t= [3gram] 0.2006337 [ -0.6975962 ]\n",
      "\tp( Mediterranean | , ...) \t= [2gram] 6.961187e-06 [ -5.157317 ]\n",
      "\tp( Sea | Mediterranean ...) \t= [3gram] 0.05365818 [ -1.270364 ]\n",
      "\tp( and | Sea ...) \t= [3gram] 0.09767108 [ -1.010234 ]\n",
      "\tp( parts | and ...) \t= [2gram] 0.0001306286 [ -3.883962 ]\n",
      "\tp( of | parts ...) \t= [3gram] 0.8993112 [ -0.04608998 ]\n",
      "\tp( the | of ...) \t= [3gram] 0.5493297 [ -0.2601669 ]\n",
      "\tp( Black | the ...) \t= [3gram] 0.0006561981 [ -3.182965 ]\n",
      "\tp( Sea | Black ...) \t= [3gram] 0.1870211 [ -0.7281095 ]\n",
      "\tp( . | Sea ...) \t= [3gram] 0.1649643 [ -0.7826101 ]\n",
      "\tp( It | . ...) \t= [3gram] 0.03463777 [ -1.46045 ]\n",
      "\tp( is | It ...) \t= [3gram] 0.1965225 [ -0.7065877 ]\n",
      "\tp( closely | is ...) \t= [3gram] 0.00110155 [ -2.957996 ]\n",
      "\tp( related | closely ...) \t= [3gram] 0.5249197 [ -0.2799071 ]\n",
      "\tp( to | related ...) \t= [3gram] 0.6706636 [ -0.1734953 ]\n",
      "\tp( the | to ...) \t= [3gram] 0.3972491 [ -0.4009371 ]\n",
      "\tp( American | the ...) \t= [3gram] 0.00236025 [ -2.627042 ]\n",
      "\tp( lobster | American ...) \t= [3gram] 6.070268e-05 [ -4.216792 ]\n",
      "\tp( , | lobster ...) \t= [2gram] 0.07969279 [ -1.098581 ]\n",
      "\tp( H. | , ...) \t= [2gram] 7.760534e-05 [ -4.110108 ]\n",
      "\tp( americanus | H. ...) \t= [1gram] 3.504232e-07 [ -6.455407 ]\n",
      "\tp( . | americanus ...) \t= [2gram] 0.05363595 [ -1.270544 ]\n",
      "\tp( It | . ...) \t= [2gram] 0.01586332 [ -1.799606 ]\n",
      "\tp( may | It ...) \t= [3gram] 0.006476748 [ -2.188643 ]\n",
      "\tp( grow | may ...) \t= [2gram] 0.0005561749 [ -3.254789 ]\n",
      "\tp( to | grow ...) \t= [3gram] 0.1212086 [ -0.9164667 ]\n",
      "\tp( a | to ...) \t= [3gram] 0.1331955 [ -0.8755106 ]\n",
      "\tp( length | a ...) \t= [3gram] 0.0006869687 [ -3.163063 ]\n",
      "\tp( of | length ...) \t= [3gram] 0.6335658 [ -0.1982083 ]\n",
      "\tp( 60 | of ...) \t= [3gram] 0.002214772 [ -2.654671 ]\n",
      "\tp( cm | 60 ...) \t= [3gram] 0.0109938 [ -1.958852 ]\n",
      "\tp( ( | cm ...) \t= [3gram] 0.7485586 [ -0.1257742 ]\n",
      "\tp( 24 | ( ...) \t= [3gram] 0.01333128 [ -1.875128 ]\n",
      "\tp( in | 24 ...) \t= [3gram] 0.07088479 [ -1.149447 ]\n",
      "\tp( ) | in ...) \t= [3gram] 0.4911285 [ -0.3088049 ]\n",
      "\tp( and | ) ...) \t= [3gram] 0.04728747 [ -1.325254 ]\n",
      "\tp( a | and ...) \t= [3gram] 0.06812037 [ -1.166723 ]\n",
      "\tp( mass | a ...) \t= [3gram] 0.0005716945 [ -3.242836 ]\n",
      "\tp( of | mass ...) \t= [3gram] 0.3016126 [ -0.5205505 ]\n",
      "\tp( 6 | of ...) \t= [3gram] 0.001188232 [ -2.925099 ]\n",
      "\tp( kilograms | 6 ...) \t= [2gram] 0.0001788281 [ -3.747564 ]\n",
      "\tp( ( | kilograms ...) \t= [3gram] 0.6809174 [ -0.1669056 ]\n",
      "\tp( 13 | ( ...) \t= [3gram] 0.01740692 [ -1.759278 ]\n",
      "\tp( lb | 13 ...) \t= [3gram] 0.009906401 [ -2.004084 ]\n",
      "\tp( ) | lb ...) \t= [3gram] 0.7439861 [ -0.1284352 ]\n",
      "\tp( , | ) ...) \t= [3gram] 0.1278589 [ -0.8932691 ]\n",
      "\tp( and | , ...) \t= [3gram] 0.1478421 [ -0.830202 ]\n",
      "\tp( bears | and ...) \t= [3gram] 5.499613e-05 [ -4.259668 ]\n",
      "\tp( a | bears ...) \t= [3gram] 0.1850459 [ -0.7327206 ]\n",
      "\tp( conspicuous | a ...) \t= [2gram] 3.67979e-05 [ -4.434177 ]\n",
      "\tp( pair | conspicuous ...) \t= [2gram] 0.0006840968 [ -3.164882 ]\n",
      "\tp( of | pair ...) \t= [2gram] 0.1078465 [ -0.9671939 ]\n",
      "\tp( claws | of ...) \t= [2gram] 3.288604e-06 [ -5.482988 ]\n",
      "\tp( . | claws ...) \t= [2gram] 0.152597 [ -0.816454 ]\n",
      "\tp( In | . ...) \t= [3gram] 0.01770333 [ -1.751945 ]\n",
      "\tp( life | In ...) \t= [3gram] 8.24499e-05 [ -4.08381 ]\n",
      "\tp( , | life ...) \t= [3gram] 0.8511128 [ -0.07001287 ]\n",
      "\tp( the | , ...) \t= [3gram] 0.03490857 [ -1.457068 ]\n",
      "\tp( lobsters | the ...) \t= [2gram] 9.473033e-08 [ -7.023511 ]\n",
      "\tp( are | lobsters ...) \t= [2gram] 0.05734585 [ -1.241498 ]\n",
      "\tp( blue | are ...) \t= [2gram] 0.000223259 [ -3.651191 ]\n",
      "\tp( , | blue ...) \t= [3gram] 0.186426 [ -0.7294936 ]\n",
      "\tp( only | , ...) \t= [2gram] 0.0007076196 [ -3.1502 ]\n",
      "\tp( becoming | only ...) \t= [3gram] 0.0002510106 [ -3.600308 ]\n",
      "\tp( \" | becoming ...) \t= [2gram] 0.01223072 [ -1.912548 ]\n",
      "\tp( lobster | \" ...) \t= [2gram] 4.257542e-06 [ -5.370841 ]\n",
      "\tp( red | lobster ...) \t= [1gram] 4.869483e-05 [ -4.312517 ]\n",
      "\tp( \" | red ...) \t= [2gram] 0.007663566 [ -2.115569 ]\n",
      "\tp( on | \" ...) \t= [2gram] 0.003295608 [ -2.482064 ]\n",
      "\tp( cooking | on ...) \t= [2gram] 1.260174e-05 [ -4.89957 ]\n",
      "\tp( . | cooking ...) \t= [2gram] 0.0341099 [ -1.46712 ]\n",
      "\tp( Mating | . ...) \t= [2gram] 3.162743e-05 [ -4.499936 ]\n",
      "\tp( occurs | Mating ...) \t= [3gram] 0.1892935 [ -0.7228644 ]\n",
      "\tp( in | occurs ...) \t= [3gram] 0.1634141 [ -0.7867105 ]\n",
      "\tp( the | in ...) \t= [3gram] 0.2761065 [ -0.5589233 ]\n",
      "\tp( summer | the ...) \t= [3gram] 0.003403494 [ -2.468075 ]\n",
      "\tp( , | summer ...) \t= [3gram] 0.1012115 [ -0.9947702 ]\n",
      "\tp( producing | , ...) \t= [2gram] 0.0001633527 [ -3.786874 ]\n",
      "\tp( eggs | producing ...) \t= [2gram] 0.001359999 [ -2.866461 ]\n",
      "\tp( which | eggs ...) \t= [2gram] 0.01156609 [ -1.936813 ]\n",
      "\tp( are | which ...) \t= [3gram] 0.4191865 [ -0.3775927 ]\n",
      "\tp( carried | are ...) \t= [3gram] 0.001171785 [ -2.931152 ]\n",
      "\tp( by | carried ...) \t= [3gram] 0.1331485 [ -0.8756639 ]\n",
      "\tp( the | by ...) \t= [3gram] 0.3019946 [ -0.5200009 ]\n",
      "\tp( females | the ...) \t= [3gram] 2.669549e-05 [ -4.573562 ]\n",
      "\tp( for | females ...) \t= [3gram] 0.00265559 [ -2.575839 ]\n",
      "\tp( up | for ...) \t= [2gram] 0.0005338935 [ -3.272545 ]\n",
      "\tp( to | up ...) \t= [3gram] 0.9746496 [ -0.01115151 ]\n",
      "\tp( a | to ...) \t= [3gram] 0.03046969 [ -1.516132 ]\n",
      "\tp( year | a ...) \t= [3gram] 0.001663643 [ -2.77894 ]\n",
      "\tp( before | year ...) \t= [3gram] 0.0378352 [ -1.422104 ]\n",
      "\tp( hatching | before ...) \t= [2gram] 0.0001224203 [ -3.912147 ]\n",
      "\tp( into | hatching ...) \t= [2gram] 0.001267865 [ -2.896927 ]\n",
      "\tp( planktonic | into ...) \t= [2gram] 5.872308e-06 [ -5.231191 ]\n",
      "\tp( larvae | planktonic ...) \t= [2gram] 0.09110894 [ -1.040439 ]\n",
      "\tp( . | larvae ...) \t= [3gram] 0.2625991 [ -0.5807068 ]\n",
      "\tp( Homarus | . ...) \t= [1gram] 4.748126e-08 [ -7.323478 ]\n",
      "\tp( gammarus | Homarus ...) \t= [2gram] 0.1036962 [ -0.9842371 ]\n",
      "\tp( is | gammarus ...) \t= [1gram] 0.002493509 [ -2.603189 ]\n",
      "\tp( a | is ...) \t= [2gram] 0.05325201 [ -1.273664 ]\n",
      "\tp( highly | a ...) \t= [3gram] 0.001772335 [ -2.751454 ]\n",
      "\tp( esteemed | highly ...) \t= [2gram] 0.002147768 [ -2.668013 ]\n",
      "\tp( food | esteemed ...) \t= [1gram] 7.024182e-05 [ -4.153404 ]\n",
      "\tp( , | food ...) \t= [2gram] 0.06570237 [ -1.182419 ]\n",
      "\tp( and | , ...) \t= [3gram] 0.1857175 [ -0.7311471 ]\n",
      "\tp( is | and ...) \t= [3gram] 0.01213213 [ -1.916063 ]\n",
      "\tp( widely | is ...) \t= [3gram] 0.003943657 [ -2.404101 ]\n",
      "\tp( caught | widely ...) \t= [3gram] 0.003411388 [ -2.467069 ]\n",
      "\tp( using | caught ...) \t= [2gram] 0.000886288 [ -3.052425 ]\n",
      "\tp( lobster | using ...) \t= [2gram] 6.540923e-05 [ -4.184361 ]\n",
      "\tp( pots | lobster ...) \t= [2gram] 0.01530683 [ -1.815115 ]\n",
      "\tp( , | pots ...) \t= [2gram] 0.1262314 [ -0.8988327 ]\n",
      "\tp( mostly | , ...) \t= [2gram] 0.0004744921 [ -3.323771 ]\n",
      "\tp( around | mostly ...) \t= [3gram] 0.004923183 [ -2.307754 ]\n",
      "\tp( the | around ...) \t= [3gram] 0.4083616 [ -0.3889551 ]\n",
      "\tp( British | the ...) \t= [3gram] 0.002526382 [ -2.597501 ]\n",
      "\tp( Isles | British ...) \t= [3gram] 0.02559965 [ -1.591766 ]\n",
      "\tp( . | Isles ...) \t= [3gram] 0.2320557 [ -0.6344077 ]\n",
      "\tp( </s> | . ...) \t= [3gram] 0.2329831 [ -0.6326756 ]\n",
      "1 sentences, 141 words, 0 OOVs\n",
      "0 zeroprobs, logprob= -314.9575 ppl= 165.2003 ppl1= 171.2937\n",
      "\n"
     ]
    }
   ],
   "source": [
    "!{ngram} -lm train.lm -ppl {valid} -debug 2 | head -n 155"
   ]
  },
  {
   "cell_type": "markdown",
   "metadata": {},
   "source": [
    "### Smoothing\n",
    "\n",
    "Assign probability to OOV tokens."
   ]
  },
  {
   "cell_type": "code",
   "execution_count": 111,
   "metadata": {},
   "outputs": [
    {
     "name": "stdout",
     "output_type": "stream",
     "text": [
      "file /home/levon003/repos/nlp-for-hci-workshop/data/wikitext-103/wiki.valid.tokens: 2461 sentences, 213886 words, 1657 OOVs\r\n",
      "0 zeroprobs, logprob= -474960.2 ppl= 163.0448 ppl1= 172.966\r\n"
     ]
    }
   ],
   "source": [
    "# Kneser-Ney\n",
    "!{srilm} -text {train} -order 3 -kndiscount -lm train_kn.lm\n",
    "!{ngram} -lm train_kn.lm -ppl {valid}"
   ]
  },
  {
   "cell_type": "code",
   "execution_count": 112,
   "metadata": {},
   "outputs": [
    {
     "name": "stdout",
     "output_type": "stream",
     "text": [
      "file /home/levon003/repos/nlp-for-hci-workshop/data/wikitext-103/wiki.valid.tokens: 2461 sentences, 213886 words, 1657 OOVs\r\n",
      "0 zeroprobs, logprob= -477925.2 ppl= 168.3129 ppl1= 178.6206\r\n"
     ]
    }
   ],
   "source": [
    "# Witten-Bell\n",
    "!{srilm} -text {train} -order 3 -wbdiscount -lm train_wb.lm\n",
    "!{ngram} -lm train_wb.lm -ppl {valid}"
   ]
  },
  {
   "cell_type": "code",
   "execution_count": 113,
   "metadata": {},
   "outputs": [
    {
     "name": "stdout",
     "output_type": "stream",
     "text": [
      "file /home/levon003/repos/nlp-for-hci-workshop/data/wikitext-103/wiki.valid.tokens: 2461 sentences, 213886 words, 1657 OOVs\r\n",
      "0 zeroprobs, logprob= -523069.6 ppl= 273.146 ppl1= 291.5058\r\n"
     ]
    }
   ],
   "source": [
    "# Witten-Bell (bigrams only)\n",
    "!{srilm} -text {train} -order 2 -wbdiscount -lm train_wb2.lm\n",
    "!{ngram} -lm train_wb2.lm -ppl {valid}"
   ]
  },
  {
   "cell_type": "code",
   "execution_count": 114,
   "metadata": {},
   "outputs": [
    {
     "name": "stdout",
     "output_type": "stream",
     "text": [
      "file /home/levon003/repos/nlp-for-hci-workshop/data/wikitext-103/wiki.test.tokens: 2891 sentences, 241211 words, 2492 OOVs\r\n",
      "0 zeroprobs, logprob= -540165.5 ppl= 172.0647 ppl1= 183.1332\r\n"
     ]
    }
   ],
   "source": [
    "# We'll use the best LM we trained to evaluate on the test dataset\n",
    "!{ngram} -lm train_kn.lm -ppl {test}"
   ]
  },
  {
   "cell_type": "markdown",
   "metadata": {},
   "source": [
    "Not bad!\n",
    "\n",
    "The LM is about as confused as if we were rolling a 172-sided die.\n",
    "\n",
    "Graves et al. achieve a perplexity of 40.8, and [published best](https://nlpprogress.com/english/language_modeling.html) is as low as 20 (!!). When it comes to language modeling, word counting is not enough.  (We really need to use more context and recognize similar situations.)"
   ]
  },
  {
   "cell_type": "code",
   "execution_count": null,
   "metadata": {},
   "outputs": [],
   "source": []
  }
 ],
 "metadata": {
  "kernelspec": {
   "display_name": "Python 3",
   "language": "python",
   "name": "python3"
  },
  "language_info": {
   "codemirror_mode": {
    "name": "ipython",
    "version": 3
   },
   "file_extension": ".py",
   "mimetype": "text/x-python",
   "name": "python",
   "nbconvert_exporter": "python",
   "pygments_lexer": "ipython3",
   "version": "3.6.8"
  }
 },
 "nbformat": 4,
 "nbformat_minor": 2
}
